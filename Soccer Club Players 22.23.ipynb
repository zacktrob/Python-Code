{
 "cells": [
  {
   "cell_type": "code",
   "execution_count": 1,
   "id": "47ee0b93",
   "metadata": {},
   "outputs": [],
   "source": [
    "##importing needed libraries\n",
    "import pandas as pd"
   ]
  },
  {
   "cell_type": "code",
   "execution_count": 2,
   "id": "f189d3a2",
   "metadata": {},
   "outputs": [
    {
     "data": {
      "text/html": [
       "<div>\n",
       "<style scoped>\n",
       "    .dataframe tbody tr th:only-of-type {\n",
       "        vertical-align: middle;\n",
       "    }\n",
       "\n",
       "    .dataframe tbody tr th {\n",
       "        vertical-align: top;\n",
       "    }\n",
       "\n",
       "    .dataframe thead th {\n",
       "        text-align: right;\n",
       "    }\n",
       "</style>\n",
       "<table border=\"1\" class=\"dataframe\">\n",
       "  <thead>\n",
       "    <tr style=\"text-align: right;\">\n",
       "      <th></th>\n",
       "      <th>id</th>\n",
       "      <th>team</th>\n",
       "      <th>gender</th>\n",
       "      <th>birth_year</th>\n",
       "      <th>city</th>\n",
       "      <th>state</th>\n",
       "      <th>zip</th>\n",
       "      <th>location</th>\n",
       "    </tr>\n",
       "  </thead>\n",
       "  <tbody>\n",
       "    <tr>\n",
       "      <th>0</th>\n",
       "      <td>21624</td>\n",
       "      <td>Williamson 2011 Girls Academy</td>\n",
       "      <td>F</td>\n",
       "      <td>2011</td>\n",
       "      <td>MURFREESBORO</td>\n",
       "      <td>TN</td>\n",
       "      <td>37129</td>\n",
       "      <td>Williamson</td>\n",
       "    </tr>\n",
       "    <tr>\n",
       "      <th>1</th>\n",
       "      <td>21628</td>\n",
       "      <td>Williamson 2011 Girls Academy</td>\n",
       "      <td>F</td>\n",
       "      <td>2011</td>\n",
       "      <td>Nashville</td>\n",
       "      <td>TN</td>\n",
       "      <td>37221</td>\n",
       "      <td>Williamson</td>\n",
       "    </tr>\n",
       "    <tr>\n",
       "      <th>2</th>\n",
       "      <td>21636</td>\n",
       "      <td>Williamson 2011 Girls Academy</td>\n",
       "      <td>F</td>\n",
       "      <td>2011</td>\n",
       "      <td>Thompsons S</td>\n",
       "      <td>TN</td>\n",
       "      <td>37179</td>\n",
       "      <td>Williamson</td>\n",
       "    </tr>\n",
       "    <tr>\n",
       "      <th>3</th>\n",
       "      <td>21643</td>\n",
       "      <td>Williamson 2011 Girls Academy</td>\n",
       "      <td>F</td>\n",
       "      <td>2011</td>\n",
       "      <td>Brentwood</td>\n",
       "      <td>TN</td>\n",
       "      <td>37027</td>\n",
       "      <td>Williamson</td>\n",
       "    </tr>\n",
       "    <tr>\n",
       "      <th>4</th>\n",
       "      <td>21653</td>\n",
       "      <td>Williamson 2011 Girls Academy</td>\n",
       "      <td>F</td>\n",
       "      <td>2011</td>\n",
       "      <td>Franklin</td>\n",
       "      <td>TN</td>\n",
       "      <td>37064</td>\n",
       "      <td>Williamson</td>\n",
       "    </tr>\n",
       "  </tbody>\n",
       "</table>\n",
       "</div>"
      ],
      "text/plain": [
       "      id                           team gender  birth_year          city  \\\n",
       "0  21624  Williamson 2011 Girls Academy      F        2011  MURFREESBORO   \n",
       "1  21628  Williamson 2011 Girls Academy      F        2011     Nashville   \n",
       "2  21636  Williamson 2011 Girls Academy      F        2011  Thompsons S    \n",
       "3  21643  Williamson 2011 Girls Academy      F        2011     Brentwood   \n",
       "4  21653  Williamson 2011 Girls Academy      F        2011      Franklin   \n",
       "\n",
       "  state    zip    location  \n",
       "0    TN  37129  Williamson  \n",
       "1    TN  37221  Williamson  \n",
       "2    TN  37179  Williamson  \n",
       "3    TN  37027  Williamson  \n",
       "4    TN  37064  Williamson  "
      ]
     },
     "execution_count": 2,
     "metadata": {},
     "output_type": "execute_result"
    }
   ],
   "source": [
    "##importing dataset and checking first 5 rows\n",
    "df = pd.read_csv('TSCstats.csv')\n",
    "df.head(5)"
   ]
  },
  {
   "cell_type": "code",
   "execution_count": 4,
   "id": "e2a6df53",
   "metadata": {},
   "outputs": [
    {
     "data": {
      "text/plain": [
       "M    981\n",
       "F    834\n",
       "Name: gender, dtype: int64"
      ]
     },
     "execution_count": 4,
     "metadata": {},
     "output_type": "execute_result"
    }
   ],
   "source": [
    "##Total breakdown of gender for entire club\n",
    "df['gender'].value_counts()"
   ]
  },
  {
   "cell_type": "code",
   "execution_count": 5,
   "id": "b940b312",
   "metadata": {},
   "outputs": [
    {
     "data": {
      "text/plain": [
       "location      gender\n",
       "Murfreesboro  M         104\n",
       "              F          97\n",
       "Nashville     M          72\n",
       "              F          22\n",
       "Sumner        F          89\n",
       "              M          88\n",
       "Williamson    M         717\n",
       "              F         626\n",
       "Name: gender, dtype: int64"
      ]
     },
     "execution_count": 5,
     "metadata": {},
     "output_type": "execute_result"
    }
   ],
   "source": [
    "##Gender (players) by location\n",
    "df.groupby('location').gender.value_counts()"
   ]
  },
  {
   "cell_type": "code",
   "execution_count": 6,
   "id": "4f187d98",
   "metadata": {},
   "outputs": [
    {
     "data": {
      "text/plain": [
       "birth_year  location    \n",
       "2004        Williamson       25\n",
       "            Murfreesboro     10\n",
       "            Sumner            5\n",
       "2005        Williamson       65\n",
       "            Murfreesboro     43\n",
       "            Nashville        11\n",
       "            Sumner           11\n",
       "2006        Williamson      100\n",
       "            Murfreesboro     39\n",
       "            Nashville        32\n",
       "            Sumner           23\n",
       "2007        Williamson      134\n",
       "            Sumner           37\n",
       "            Murfreesboro     35\n",
       "            Nashville        10\n",
       "2008        Williamson      149\n",
       "            Sumner           39\n",
       "            Murfreesboro     15\n",
       "            Nashville        15\n",
       "2009        Williamson      142\n",
       "            Sumner           18\n",
       "            Murfreesboro     11\n",
       "            Nashville         6\n",
       "2010        Williamson      123\n",
       "            Sumner           14\n",
       "            Nashville        11\n",
       "            Murfreesboro      6\n",
       "2011        Williamson      174\n",
       "            Murfreesboro      8\n",
       "            Sumner            8\n",
       "2012        Williamson      130\n",
       "            Murfreesboro     18\n",
       "            Sumner           12\n",
       "2013        Williamson      111\n",
       "            Murfreesboro     12\n",
       "            Sumner            6\n",
       "2014        Williamson       96\n",
       "            Sumner            3\n",
       "            Murfreesboro      2\n",
       "2015        Williamson       59\n",
       "            Nashville         7\n",
       "            Murfreesboro      2\n",
       "2016        Williamson       34\n",
       "            Nashville         2\n",
       "2019        Williamson        1\n",
       "2020        Sumner            1\n",
       "Name: location, dtype: int64"
      ]
     },
     "execution_count": 6,
     "metadata": {},
     "output_type": "execute_result"
    }
   ],
   "source": [
    "#location by age\n",
    "df.groupby('birth_year').location.value_counts()"
   ]
  },
  {
   "cell_type": "code",
   "execution_count": 7,
   "id": "66ad99b7",
   "metadata": {},
   "outputs": [
    {
     "data": {
      "text/plain": [
       "birth_year  gender\n",
       "2004        M          24\n",
       "            F          16\n",
       "2005        F          71\n",
       "            M          59\n",
       "2006        M          99\n",
       "            F          95\n",
       "2007        M         118\n",
       "            F          98\n",
       "2008        F         109\n",
       "            M         109\n",
       "2009        M          96\n",
       "            F          81\n",
       "2010        M          79\n",
       "            F          75\n",
       "2011        M          99\n",
       "            F          91\n",
       "2012        M          96\n",
       "            F          64\n",
       "2013        M          77\n",
       "            F          52\n",
       "2014        M          57\n",
       "            F          44\n",
       "2015        M          45\n",
       "            F          23\n",
       "2016        M          23\n",
       "            F          13\n",
       "2019        F           1\n",
       "2020        F           1\n",
       "Name: gender, dtype: int64"
      ]
     },
     "execution_count": 7,
     "metadata": {},
     "output_type": "execute_result"
    }
   ],
   "source": [
    "##Gender by birth year\n",
    "df.groupby('birth_year').gender.value_counts()"
   ]
  },
  {
   "cell_type": "code",
   "execution_count": null,
   "id": "1ee8b7ee",
   "metadata": {},
   "outputs": [],
   "source": []
  }
 ],
 "metadata": {
  "kernelspec": {
   "display_name": "Python 3 (ipykernel)",
   "language": "python",
   "name": "python3"
  },
  "language_info": {
   "codemirror_mode": {
    "name": "ipython",
    "version": 3
   },
   "file_extension": ".py",
   "mimetype": "text/x-python",
   "name": "python",
   "nbconvert_exporter": "python",
   "pygments_lexer": "ipython3",
   "version": "3.9.13"
  }
 },
 "nbformat": 4,
 "nbformat_minor": 5
}
